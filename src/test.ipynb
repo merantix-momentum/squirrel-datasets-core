{
 "cells": [
  {
   "cell_type": "code",
   "execution_count": null,
   "metadata": {},
   "outputs": [],
   "source": [
    "from squirrel_datasets_core.datasets.kaggle_casting_quality.driver import RawKaggleCastingQuality\n",
    "iter = RawKaggleCastingQuality(\"archive/casting_data/casting_data\").get_iter(\"test\")\n",
    "\n",
    "for i in iter:\n",
    "    print(i[\"label\"])"
   ]
  }
 ],
 "metadata": {
  "interpreter": {
   "hash": "338cfae0a1873dbc3e6a1266258c61ca663f4d905ce797b41b2835118552379a"
  },
  "kernelspec": {
   "display_name": "Python 3.8.12 64-bit ('sq-env': conda)",
   "language": "python",
   "name": "python3"
  },
  "language_info": {
   "codemirror_mode": {
    "name": "ipython",
    "version": 3
   },
   "file_extension": ".py",
   "mimetype": "text/x-python",
   "name": "python",
   "nbconvert_exporter": "python",
   "pygments_lexer": "ipython3",
   "version": "3.8.12"
  },
  "orig_nbformat": 4
 },
 "nbformat": 4,
 "nbformat_minor": 2
}

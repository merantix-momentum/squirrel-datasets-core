{
 "cells": [
  {
   "cell_type": "markdown",
   "id": "495e66a3",
   "metadata": {},
   "source": [
    "[![Open In Colab](https://colab.research.google.com/assets/colab-badge.svg)](https://colab.research.google.com/github/merantix-momentum/squirrel-datasets-core/blob/main/examples/07.Performance_Guideline.ipynb)"
   ]
  },
  {
   "cell_type": "code",
   "execution_count": null,
   "id": "beb78b13",
   "metadata": {},
   "outputs": [],
   "source": [
    "try:\n",
    "    import squirrel\n",
    "    from dask.distributed import Client\n",
    "except:\n",
    "    !pip install -q --ignore-requires-python --upgrade squirrel \"dask[distributed]\" # noqa\n",
    "    import squirrel\n",
    "    from dask.distributed import Client\n",
    "\n",
    "print(squirrel.__version__)"
   ]
  },
  {
   "cell_type": "code",
   "execution_count": null,
   "id": "49426fff",
   "metadata": {},
   "outputs": [],
   "source": [
    "import random\n",
    "from concurrent.futures import ProcessPoolExecutor\n",
    "from time import sleep\n",
    "\n",
    "import numpy as np\n",
    "from dask.distributed import Client\n",
    "from numba import jit\n",
    "from squirrel.iterstream import IterableSource"
   ]
  },
  {
   "cell_type": "code",
   "execution_count": null,
   "id": "4e251279",
   "metadata": {},
   "outputs": [],
   "source": [
    "def io_bound_func(x):\n",
    "    sleep(0.1)\n",
    "    return x\n",
    "\n",
    "\n",
    "def python_func(x):\n",
    "    for _ in range(10 ** 7):\n",
    "        random.random()\n",
    "    return x\n",
    "\n",
    "\n",
    "def np_trace(a):\n",
    "    trace = 0.0\n",
    "    for i in range(a.shape[0]):\n",
    "        trace += np.tanh(a[i, i])\n",
    "    return a + trace\n",
    "\n",
    "\n",
    "@jit(nopython=True)\n",
    "def np_trace_nb(a):\n",
    "    trace = 0.0\n",
    "    for i in range(a.shape[0]):\n",
    "        trace += np.tanh(a[i, i])\n",
    "    return a + trace\n",
    "\n",
    "\n",
    "ppool = ProcessPoolExecutor()\n",
    "d = 10\n",
    "arrs = [np.random.random((d, d)) for _ in range(1000)]"
   ]
  },
  {
   "cell_type": "code",
   "execution_count": null,
   "id": "d2640a25",
   "metadata": {},
   "outputs": [],
   "source": [
    "# calling the function for the first time compiles it\n",
    "_ = np_trace_nb(arrs[0])"
   ]
  },
  {
   "cell_type": "code",
   "execution_count": null,
   "id": "c4215412",
   "metadata": {},
   "outputs": [],
   "source": [
    "dask_client = Client()"
   ]
  },
  {
   "cell_type": "markdown",
   "id": "208d05ec",
   "metadata": {},
   "source": [
    "# IO\n",
    "\n",
    "For IO bound operations, use `async_map()` without `executor` argument, which uses then a ThreadPoolExecutor.\n",
    "It is less resource intensive than a `ProcessPoolExecutor`, "
   ]
  },
  {
   "cell_type": "code",
   "execution_count": null,
   "id": "35e2b4fa",
   "metadata": {},
   "outputs": [],
   "source": [
    "%%timeit\n",
    "\n",
    "IterableSource(range(10)).map(io_bound_func).join()"
   ]
  },
  {
   "cell_type": "code",
   "execution_count": null,
   "id": "ca4160b2",
   "metadata": {},
   "outputs": [],
   "source": [
    "%%timeit\n",
    "\n",
    "IterableSource(range(10)).async_map(io_bound_func).join()"
   ]
  },
  {
   "cell_type": "code",
   "execution_count": null,
   "id": "2419fe24",
   "metadata": {},
   "outputs": [],
   "source": [
    "%%timeit\n",
    "\n",
    "IterableSource(range(10)).async_map(io_bound_func, executor=ppool).join()"
   ]
  },
  {
   "cell_type": "code",
   "execution_count": null,
   "id": "570e1000",
   "metadata": {},
   "outputs": [],
   "source": [
    "%%timeit\n",
    "\n",
    "IterableSource(range(10)).numba_map(io_bound_func).join()"
   ]
  },
  {
   "cell_type": "code",
   "execution_count": null,
   "id": "b28f21b0",
   "metadata": {},
   "outputs": [],
   "source": [
    "%%timeit\n",
    "\n",
    "IterableSource(range(10)).async_map(io_bound_func, executor=dask_client).join()"
   ]
  },
  {
   "cell_type": "markdown",
   "id": "73d9487b",
   "metadata": {},
   "source": [
    "# Py func\n",
    "\n",
    "For python functions, `async_map` with `ProcessPoolExecutor` provides the best performance."
   ]
  },
  {
   "cell_type": "code",
   "execution_count": null,
   "id": "cbd86d2a",
   "metadata": {},
   "outputs": [],
   "source": [
    "%%timeit\n",
    "\n",
    "IterableSource(range(10)).map(python_func).join()"
   ]
  },
  {
   "cell_type": "code",
   "execution_count": null,
   "id": "5ea6a0cb",
   "metadata": {},
   "outputs": [],
   "source": [
    "%%timeit\n",
    "\n",
    "IterableSource(range(10)).async_map(python_func).join()"
   ]
  },
  {
   "cell_type": "code",
   "execution_count": null,
   "id": "af100ee8",
   "metadata": {},
   "outputs": [],
   "source": [
    "%%timeit\n",
    "\n",
    "_ = IterableSource(range(10)).async_map(python_func, executor=ppool).join()"
   ]
  },
  {
   "cell_type": "code",
   "execution_count": null,
   "id": "3286584d",
   "metadata": {},
   "outputs": [],
   "source": [
    "%%timeit\n",
    "\n",
    "IterableSource(range(10)).numba_map(python_func).join()"
   ]
  },
  {
   "cell_type": "code",
   "execution_count": null,
   "id": "2ca9bca3",
   "metadata": {},
   "outputs": [],
   "source": [
    "%%timeit\n",
    "\n",
    "IterableSource(range(10)).async_map(python_func, executor=dask_client).join()"
   ]
  },
  {
   "cell_type": "markdown",
   "id": "12c2007c",
   "metadata": {},
   "source": [
    "# numpy computation\n",
    "\n",
    "numba offers a fastest execution, while still runing in a single threaded manner (uses less resources)"
   ]
  },
  {
   "cell_type": "code",
   "execution_count": null,
   "id": "cd6bd695",
   "metadata": {},
   "outputs": [],
   "source": [
    "%%timeit\n",
    "\n",
    "IterableSource(arrs).map(np_trace).join()"
   ]
  },
  {
   "cell_type": "code",
   "execution_count": null,
   "id": "cdd5538a",
   "metadata": {},
   "outputs": [],
   "source": [
    "%%timeit\n",
    "\n",
    "IterableSource(arrs).async_map(np_trace).join()"
   ]
  },
  {
   "cell_type": "code",
   "execution_count": null,
   "id": "5bdf9f35",
   "metadata": {},
   "outputs": [],
   "source": [
    "%%timeit\n",
    "\n",
    "IterableSource(arrs).async_map(np_trace, executor=ppool).join()"
   ]
  },
  {
   "cell_type": "code",
   "execution_count": null,
   "id": "78e85ac8",
   "metadata": {},
   "outputs": [],
   "source": [
    "%%timeit\n",
    "\n",
    "IterableSource(arrs).numba_map(np_trace).join()"
   ]
  },
  {
   "cell_type": "code",
   "execution_count": null,
   "id": "5c41c4a6",
   "metadata": {},
   "outputs": [],
   "source": [
    "%%timeit\n",
    "\n",
    "IterableSource(arrs).map(np_trace_nb).join()"
   ]
  },
  {
   "cell_type": "code",
   "execution_count": null,
   "id": "61740309",
   "metadata": {},
   "outputs": [],
   "source": [
    "%%timeit\n",
    "\n",
    "IterableSource(arrs).numba_map(np_trace_nb).join()"
   ]
  }
 ],
 "metadata": {
  "kernelspec": {
   "display_name": "Python 3 (ipykernel)",
   "language": "python",
   "name": "python3"
  },
  "language_info": {
   "codemirror_mode": {
    "name": "ipython",
    "version": 3
   },
   "file_extension": ".py",
   "mimetype": "text/x-python",
   "name": "python",
   "nbconvert_exporter": "python",
   "pygments_lexer": "ipython3",
   "version": "3.8.10"
  }
 },
 "nbformat": 4,
 "nbformat_minor": 5
}

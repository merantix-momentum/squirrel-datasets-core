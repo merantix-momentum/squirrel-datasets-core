{
 "cells": [
  {
   "cell_type": "markdown",
   "id": "56098406",
   "metadata": {},
   "source": [
    "[![Open In Colab](https://colab.research.google.com/assets/colab-badge.svg)](https://colab.research.google.com/github/merantix-momentum/squirrel-datasets-core/blob/main/examples/02.Catalog.ipynb)"
   ]
  },
  {
   "cell_type": "markdown",
   "id": "a669ba1a",
   "metadata": {},
   "source": [
    "# Catalog API"
   ]
  },
  {
   "cell_type": "code",
   "execution_count": null,
   "id": "a47e82d3",
   "metadata": {
    "pycharm": {
     "name": "#%%\n"
    }
   },
   "outputs": [],
   "source": [
    "try:\n",
    "    import matplotlib\n",
    "    import squirrel\n",
    "except:\n",
    "    !pip install -q --ignore-requires-python --upgrade \"squirrel-core[torchvision]\" matplotlib # noqa\n",
    "    import matplotlib\n",
    "    import squirrel\n",
    "\n",
    "print(squirrel.__version__)"
   ]
  },
  {
   "cell_type": "markdown",
   "id": "f198ae3f",
   "metadata": {},
   "source": [
    "If you run this tutorial in google colab, there unfortunately are some tweaks we need to apply to make it work - we will skip this step automatically if we cannot detect colab:"
   ]
  },
  {
   "cell_type": "code",
   "execution_count": null,
   "id": "b66ed7e3",
   "metadata": {},
   "outputs": [],
   "source": [
    "try:\n",
    "    import google.colab\n",
    "\n",
    "    if restart_colab:\n",
    "        !pip install -q --upgrade --force pyyaml==5.4.1\n",
    "\n",
    "        # need to restart kernel\n",
    "        import os\n",
    "\n",
    "        os.kill(os.getpid(), 9)\n",
    "except:\n",
    "    # not in colab\n",
    "    pass"
   ]
  },
  {
   "cell_type": "markdown",
   "id": "0d597f95",
   "metadata": {},
   "source": [
    "## Squirrel-datasets Catalog"
   ]
  },
  {
   "cell_type": "markdown",
   "id": "fea94059",
   "metadata": {},
   "source": [
    "Squirrel-datasets comes with built-in data sources that you can use.\n",
    "Let's check them out:"
   ]
  },
  {
   "cell_type": "code",
   "execution_count": 3,
   "id": "0f67fb90",
   "metadata": {},
   "outputs": [
    {
     "name": "stdout",
     "output_type": "stream",
     "text": [
      "['c4', 'cc100', 'conceptual-captions-12m', 'GnnBvpEsTrainNoMa', 'GnnBvpEsTrainMa', 'GnnBvpEsValNoMa', 'GnnBvpEsValMa', 'GnnBvpEsTestShape', 'GnnBvpEsTestSup', 'GnnBvpMsTrainNoMa', 'GnnBvpMsTrainMa', 'GnnBvpMsValNoMa', 'GnnBvpMsValMa', 'GnnBvpMsTestShape', 'GnnBvpMsTestSup', 'mnist', 'cifar100', 'cifar10', 'wikitext-103-raw', 'wikitext-2-raw', 'wikitext-103', 'wikitext-2', 'caltech', 'emnist']\n"
     ]
    }
   ],
   "source": [
    "from squirrel.catalog import Catalog\n",
    "\n",
    "\n",
    "# loads a catalog that collects datasets from installed plug-ins such as squirrel-datasets\n",
    "cat = Catalog.from_plugins()\n",
    "print(list(cat.sources))"
   ]
  },
  {
   "cell_type": "markdown",
   "id": "88fa8463",
   "metadata": {},
   "source": [
    "That is quite a lot, right?\n",
    "\n",
    "Catalog is a collection of sources.\n",
    "It takes care of maintaining different sources and keeps track of all versions of the same source.\n",
    "\n",
    "To get more information about a Source, you can simply index the Catalog:"
   ]
  },
  {
   "cell_type": "code",
   "execution_count": 1,
   "id": "6667b634",
   "metadata": {},
   "outputs": [
    {
     "name": "stdout",
     "output_type": "stream",
     "text": [
      "cat: '[cifar10]': No such file or directory\n"
     ]
    }
   ],
   "source": [
    "cat[\"cifar10\"]"
   ]
  },
  {
   "cell_type": "markdown",
   "id": "b2ac0e4d",
   "metadata": {},
   "source": [
    "Catalog returned us the latest version of CIFAR-10 it stores.\n",
    "Note that:\n",
    "- a driver called `\"torchvision\"` will be used to read from this source\n",
    "- the driver will be passed the keyword arguments `name=\"CIFAR10\"` and `download=True`\n",
    "- no metadata was provided for the dataset\n",
    "- the latest version stored in the catalog is `v2`"
   ]
  },
  {
   "cell_type": "markdown",
   "id": "70d2d692",
   "metadata": {},
   "source": [
    "As mentioned earlier, it can be the case that we have multiple versions for the same data source.\n",
    "For example, we can keep the raw dataset as version 1 and also store the cleansed version of it as version 2.\n",
    "\n",
    "To see all versions of a source, we can use `Catalog.get_versions()`."
   ]
  },
  {
   "cell_type": "code",
   "execution_count": 4,
   "id": "52f0eea2",
   "metadata": {},
   "outputs": [
    {
     "name": "stdout",
     "output_type": "stream",
     "text": [
      "2\n"
     ]
    },
    {
     "data": {
      "text/plain": [
       "({\n",
       "   \"identifier\": \"cifar10\",\n",
       "   \"driver_name\": \"huggingface\",\n",
       "   \"driver_kwargs\": {\n",
       "     \"name\": \"cifar10\"\n",
       "   },\n",
       "   \"metadata\": {\n",
       "     \"src\": \"https://huggingface.co/datasets/cifar10\"\n",
       "   },\n",
       "   \"version\": 1,\n",
       "   \"versions\": [\n",
       "     1,\n",
       "     2\n",
       "   ]\n",
       " },\n",
       " {\n",
       "   \"identifier\": \"cifar10\",\n",
       "   \"driver_name\": \"torchvision\",\n",
       "   \"driver_kwargs\": {\n",
       "     \"name\": \"CIFAR10\",\n",
       "     \"download\": true\n",
       "   },\n",
       "   \"metadata\": {},\n",
       "   \"version\": 2,\n",
       "   \"versions\": [\n",
       "     1,\n",
       "     2\n",
       "   ]\n",
       " })"
      ]
     },
     "execution_count": 4,
     "metadata": {},
     "output_type": "execute_result"
    }
   ],
   "source": [
    "print(len(cat[\"cifar10\"]))\n",
    "cat[\"cifar10\"][1], cat[\"cifar10\"][2]"
   ]
  },
  {
   "cell_type": "markdown",
   "id": "c285dddd",
   "metadata": {},
   "source": [
    "You can see that to load CIFAR-10, we have two options: one using the HuggingfaceDriver and one using the TorchvisionDriver.\n",
    "\n",
    "Let's load data from both. To do that, we will instantiate the drivers with the help of the Catalog, and then load some samples using the `iterstream` API (if you haven't already, have a look at the `Iterstream Tutorial`).\n",
    "\n",
    "Note that different drivers expect different keyword arguments:"
   ]
  },
  {
   "cell_type": "code",
   "execution_count": 5,
   "id": "9ee73b6c",
   "metadata": {},
   "outputs": [
    {
     "ename": "ModuleNotFoundError",
     "evalue": "No module named 'torchvision'",
     "output_type": "error",
     "traceback": [
      "\u001b[0;31m---------------------------------------------------------------------------\u001b[0m",
      "\u001b[0;31mModuleNotFoundError\u001b[0m                       Traceback (most recent call last)",
      "\u001b[0;32m/tmp/ipykernel_58212/735209818.py\u001b[0m in \u001b[0;36m<module>\u001b[0;34m\u001b[0m\n\u001b[1;32m      3\u001b[0m \u001b[0;34m\u001b[0m\u001b[0m\n\u001b[1;32m      4\u001b[0m \u001b[0mN\u001b[0m \u001b[0;34m=\u001b[0m \u001b[0;36m3\u001b[0m  \u001b[0;31m# just for demonstration, we dont need a lot of samples\u001b[0m\u001b[0;34m\u001b[0m\u001b[0;34m\u001b[0m\u001b[0m\n\u001b[0;32m----> 5\u001b[0;31m \u001b[0msamples_hg\u001b[0m \u001b[0;34m=\u001b[0m \u001b[0mdriver_hg\u001b[0m\u001b[0;34m.\u001b[0m\u001b[0mget_driver\u001b[0m\u001b[0;34m(\u001b[0m\u001b[0;34m)\u001b[0m\u001b[0;34m.\u001b[0m\u001b[0mget_iter\u001b[0m\u001b[0;34m(\u001b[0m\u001b[0msplit\u001b[0m\u001b[0;34m=\u001b[0m\u001b[0;34m\"train\"\u001b[0m\u001b[0;34m)\u001b[0m\u001b[0;34m.\u001b[0m\u001b[0mtake\u001b[0m\u001b[0;34m(\u001b[0m\u001b[0mN\u001b[0m\u001b[0;34m)\u001b[0m\u001b[0;34m.\u001b[0m\u001b[0mcollect\u001b[0m\u001b[0;34m(\u001b[0m\u001b[0;34m)\u001b[0m\u001b[0;34m\u001b[0m\u001b[0;34m\u001b[0m\u001b[0m\n\u001b[0m\u001b[1;32m      6\u001b[0m \u001b[0msamples_tv\u001b[0m \u001b[0;34m=\u001b[0m \u001b[0mdriver_tv\u001b[0m\u001b[0;34m.\u001b[0m\u001b[0mget_driver\u001b[0m\u001b[0;34m(\u001b[0m\u001b[0;34m)\u001b[0m\u001b[0;34m.\u001b[0m\u001b[0mget_iter\u001b[0m\u001b[0;34m(\u001b[0m\u001b[0;34m)\u001b[0m\u001b[0;34m.\u001b[0m\u001b[0mtake\u001b[0m\u001b[0;34m(\u001b[0m\u001b[0mN\u001b[0m\u001b[0;34m)\u001b[0m\u001b[0;34m.\u001b[0m\u001b[0mcollect\u001b[0m\u001b[0;34m(\u001b[0m\u001b[0;34m)\u001b[0m\u001b[0;34m\u001b[0m\u001b[0;34m\u001b[0m\u001b[0m\n",
      "\u001b[0;32m~/projects/squirrel-core/squirrel/catalog/catalog.py\u001b[0m in \u001b[0;36mget_driver\u001b[0;34m(self, **kwargs)\u001b[0m\n\u001b[1;32m    369\u001b[0m         \u001b[0;32mfrom\u001b[0m \u001b[0msquirrel\u001b[0m\u001b[0;34m.\u001b[0m\u001b[0mframework\u001b[0m\u001b[0;34m.\u001b[0m\u001b[0mplugins\u001b[0m\u001b[0;34m.\u001b[0m\u001b[0mplugin_manager\u001b[0m \u001b[0;32mimport\u001b[0m \u001b[0msquirrel_plugin_manager\u001b[0m\u001b[0;34m\u001b[0m\u001b[0;34m\u001b[0m\u001b[0m\n\u001b[1;32m    370\u001b[0m \u001b[0;34m\u001b[0m\u001b[0m\n\u001b[0;32m--> 371\u001b[0;31m         \u001b[0mplugins\u001b[0m\u001b[0;34m:\u001b[0m \u001b[0mList\u001b[0m\u001b[0;34m[\u001b[0m\u001b[0mList\u001b[0m\u001b[0;34m[\u001b[0m\u001b[0mType\u001b[0m\u001b[0;34m[\u001b[0m\u001b[0mDriver\u001b[0m\u001b[0;34m]\u001b[0m\u001b[0;34m]\u001b[0m\u001b[0;34m]\u001b[0m \u001b[0;34m=\u001b[0m \u001b[0msquirrel_plugin_manager\u001b[0m\u001b[0;34m.\u001b[0m\u001b[0mhook\u001b[0m\u001b[0;34m.\u001b[0m\u001b[0msquirrel_drivers\u001b[0m\u001b[0;34m(\u001b[0m\u001b[0;34m)\u001b[0m\u001b[0;34m\u001b[0m\u001b[0;34m\u001b[0m\u001b[0m\n\u001b[0m\u001b[1;32m    372\u001b[0m         \u001b[0;32mfor\u001b[0m \u001b[0mplugin\u001b[0m \u001b[0;32min\u001b[0m \u001b[0mplugins\u001b[0m\u001b[0;34m:\u001b[0m\u001b[0;34m\u001b[0m\u001b[0;34m\u001b[0m\u001b[0m\n\u001b[1;32m    373\u001b[0m             \u001b[0;32mfor\u001b[0m \u001b[0mdriver_cls\u001b[0m \u001b[0;32min\u001b[0m \u001b[0mplugin\u001b[0m\u001b[0;34m:\u001b[0m\u001b[0;34m\u001b[0m\u001b[0;34m\u001b[0m\u001b[0m\n",
      "\u001b[0;32m~/anaconda3/envs/py37/lib/python3.7/site-packages/pluggy/_hooks.py\u001b[0m in \u001b[0;36m__call__\u001b[0;34m(self, *args, **kwargs)\u001b[0m\n\u001b[1;32m    263\u001b[0m             \u001b[0mfirstresult\u001b[0m \u001b[0;34m=\u001b[0m \u001b[0;32mFalse\u001b[0m\u001b[0;34m\u001b[0m\u001b[0;34m\u001b[0m\u001b[0m\n\u001b[1;32m    264\u001b[0m \u001b[0;34m\u001b[0m\u001b[0m\n\u001b[0;32m--> 265\u001b[0;31m         \u001b[0;32mreturn\u001b[0m \u001b[0mself\u001b[0m\u001b[0;34m.\u001b[0m\u001b[0m_hookexec\u001b[0m\u001b[0;34m(\u001b[0m\u001b[0mself\u001b[0m\u001b[0;34m.\u001b[0m\u001b[0mname\u001b[0m\u001b[0;34m,\u001b[0m \u001b[0mself\u001b[0m\u001b[0;34m.\u001b[0m\u001b[0mget_hookimpls\u001b[0m\u001b[0;34m(\u001b[0m\u001b[0;34m)\u001b[0m\u001b[0;34m,\u001b[0m \u001b[0mkwargs\u001b[0m\u001b[0;34m,\u001b[0m \u001b[0mfirstresult\u001b[0m\u001b[0;34m)\u001b[0m\u001b[0;34m\u001b[0m\u001b[0;34m\u001b[0m\u001b[0m\n\u001b[0m\u001b[1;32m    266\u001b[0m \u001b[0;34m\u001b[0m\u001b[0m\n\u001b[1;32m    267\u001b[0m     \u001b[0;32mdef\u001b[0m \u001b[0mcall_historic\u001b[0m\u001b[0;34m(\u001b[0m\u001b[0mself\u001b[0m\u001b[0;34m,\u001b[0m \u001b[0mresult_callback\u001b[0m\u001b[0;34m=\u001b[0m\u001b[0;32mNone\u001b[0m\u001b[0;34m,\u001b[0m \u001b[0mkwargs\u001b[0m\u001b[0;34m=\u001b[0m\u001b[0;32mNone\u001b[0m\u001b[0;34m)\u001b[0m\u001b[0;34m:\u001b[0m\u001b[0;34m\u001b[0m\u001b[0;34m\u001b[0m\u001b[0m\n",
      "\u001b[0;32m~/anaconda3/envs/py37/lib/python3.7/site-packages/pluggy/_manager.py\u001b[0m in \u001b[0;36m_hookexec\u001b[0;34m(self, hook_name, methods, kwargs, firstresult)\u001b[0m\n\u001b[1;32m     78\u001b[0m         \u001b[0;31m# called from all hookcaller instances.\u001b[0m\u001b[0;34m\u001b[0m\u001b[0;34m\u001b[0m\u001b[0;34m\u001b[0m\u001b[0m\n\u001b[1;32m     79\u001b[0m         \u001b[0;31m# enable_tracing will set its own wrapping function at self._inner_hookexec\u001b[0m\u001b[0;34m\u001b[0m\u001b[0;34m\u001b[0m\u001b[0;34m\u001b[0m\u001b[0m\n\u001b[0;32m---> 80\u001b[0;31m         \u001b[0;32mreturn\u001b[0m \u001b[0mself\u001b[0m\u001b[0;34m.\u001b[0m\u001b[0m_inner_hookexec\u001b[0m\u001b[0;34m(\u001b[0m\u001b[0mhook_name\u001b[0m\u001b[0;34m,\u001b[0m \u001b[0mmethods\u001b[0m\u001b[0;34m,\u001b[0m \u001b[0mkwargs\u001b[0m\u001b[0;34m,\u001b[0m \u001b[0mfirstresult\u001b[0m\u001b[0;34m)\u001b[0m\u001b[0;34m\u001b[0m\u001b[0;34m\u001b[0m\u001b[0m\n\u001b[0m\u001b[1;32m     81\u001b[0m \u001b[0;34m\u001b[0m\u001b[0m\n\u001b[1;32m     82\u001b[0m     \u001b[0;32mdef\u001b[0m \u001b[0mregister\u001b[0m\u001b[0;34m(\u001b[0m\u001b[0mself\u001b[0m\u001b[0;34m,\u001b[0m \u001b[0mplugin\u001b[0m\u001b[0;34m,\u001b[0m \u001b[0mname\u001b[0m\u001b[0;34m=\u001b[0m\u001b[0;32mNone\u001b[0m\u001b[0;34m)\u001b[0m\u001b[0;34m:\u001b[0m\u001b[0;34m\u001b[0m\u001b[0;34m\u001b[0m\u001b[0m\n",
      "    \u001b[0;31m[... skipping hidden 3 frame]\u001b[0m\n",
      "\u001b[0;32m~/projects/squirrel-datasets-core/src/squirrel_datasets_core/squirrel_plugin.py\u001b[0m in \u001b[0;36msquirrel_drivers\u001b[0;34m()\u001b[0m\n\u001b[1;32m     12\u001b[0m     \u001b[0;34m\"\"\"Custom drivers added by this package.\"\"\"\u001b[0m\u001b[0;34m\u001b[0m\u001b[0;34m\u001b[0m\u001b[0m\n\u001b[1;32m     13\u001b[0m     \u001b[0;32mimport\u001b[0m \u001b[0msquirrel_datasets_core\u001b[0m\u001b[0;34m.\u001b[0m\u001b[0mdatasets\u001b[0m \u001b[0;32mas\u001b[0m \u001b[0mds\u001b[0m\u001b[0;34m\u001b[0m\u001b[0;34m\u001b[0m\u001b[0m\n\u001b[0;32m---> 14\u001b[0;31m     \u001b[0;32mfrom\u001b[0m \u001b[0msquirrel_datasets_core\u001b[0m\u001b[0;34m.\u001b[0m\u001b[0mdriver\u001b[0m\u001b[0;34m.\u001b[0m\u001b[0mhub\u001b[0m \u001b[0;32mimport\u001b[0m \u001b[0mHubDriver\u001b[0m\u001b[0;34m\u001b[0m\u001b[0;34m\u001b[0m\u001b[0m\n\u001b[0m\u001b[1;32m     15\u001b[0m     \u001b[0;32mfrom\u001b[0m \u001b[0msquirrel_datasets_core\u001b[0m\u001b[0;34m.\u001b[0m\u001b[0mdriver\u001b[0m\u001b[0;34m.\u001b[0m\u001b[0mhuggingface\u001b[0m \u001b[0;32mimport\u001b[0m \u001b[0mHuggingfaceDriver\u001b[0m\u001b[0;34m\u001b[0m\u001b[0;34m\u001b[0m\u001b[0m\n\u001b[1;32m     16\u001b[0m     \u001b[0;32mfrom\u001b[0m \u001b[0msquirrel_datasets_core\u001b[0m\u001b[0;34m.\u001b[0m\u001b[0mdriver\u001b[0m\u001b[0;34m.\u001b[0m\u001b[0mtorchvision\u001b[0m \u001b[0;32mimport\u001b[0m \u001b[0mTorchvisionDriver\u001b[0m\u001b[0;34m\u001b[0m\u001b[0;34m\u001b[0m\u001b[0m\n",
      "\u001b[0;32m~/projects/squirrel-datasets-core/src/squirrel_datasets_core/driver/__init__.py\u001b[0m in \u001b[0;36m<module>\u001b[0;34m\u001b[0m\n\u001b[1;32m      1\u001b[0m \u001b[0;32mfrom\u001b[0m \u001b[0msquirrel_datasets_core\u001b[0m\u001b[0;34m.\u001b[0m\u001b[0mdriver\u001b[0m\u001b[0;34m.\u001b[0m\u001b[0mhuggingface\u001b[0m \u001b[0;32mimport\u001b[0m \u001b[0mHuggingfaceDriver\u001b[0m\u001b[0;34m\u001b[0m\u001b[0;34m\u001b[0m\u001b[0m\n\u001b[0;32m----> 2\u001b[0;31m \u001b[0;32mfrom\u001b[0m \u001b[0msquirrel_datasets_core\u001b[0m\u001b[0;34m.\u001b[0m\u001b[0mdriver\u001b[0m\u001b[0;34m.\u001b[0m\u001b[0mtorchvision\u001b[0m \u001b[0;32mimport\u001b[0m \u001b[0mTorchvisionDriver\u001b[0m\u001b[0;34m\u001b[0m\u001b[0;34m\u001b[0m\u001b[0m\n\u001b[0m\u001b[1;32m      3\u001b[0m \u001b[0;32mfrom\u001b[0m \u001b[0msquirrel_datasets_core\u001b[0m\u001b[0;34m.\u001b[0m\u001b[0mdriver\u001b[0m\u001b[0;34m.\u001b[0m\u001b[0mhub\u001b[0m \u001b[0;32mimport\u001b[0m \u001b[0mHubDriver\u001b[0m\u001b[0;34m\u001b[0m\u001b[0;34m\u001b[0m\u001b[0m\n\u001b[1;32m      4\u001b[0m \u001b[0;34m\u001b[0m\u001b[0m\n\u001b[1;32m      5\u001b[0m \u001b[0m__all__\u001b[0m \u001b[0;34m=\u001b[0m \u001b[0;34m[\u001b[0m\u001b[0;34m\"HuggingfaceDriver\"\u001b[0m\u001b[0;34m,\u001b[0m \u001b[0;34m\"TorchvisionDriver\"\u001b[0m\u001b[0;34m,\u001b[0m \u001b[0;34m\"HubDriver\"\u001b[0m\u001b[0;34m]\u001b[0m\u001b[0;34m\u001b[0m\u001b[0;34m\u001b[0m\u001b[0m\n",
      "\u001b[0;32m~/projects/squirrel-datasets-core/src/squirrel_datasets_core/driver/torchvision.py\u001b[0m in \u001b[0;36m<module>\u001b[0;34m\u001b[0m\n\u001b[1;32m      4\u001b[0m \u001b[0;32mfrom\u001b[0m \u001b[0mtyping\u001b[0m \u001b[0;32mimport\u001b[0m \u001b[0mAny\u001b[0m\u001b[0;34m,\u001b[0m \u001b[0mOptional\u001b[0m\u001b[0;34m,\u001b[0m \u001b[0mType\u001b[0m\u001b[0;34m\u001b[0m\u001b[0;34m\u001b[0m\u001b[0m\n\u001b[1;32m      5\u001b[0m \u001b[0;34m\u001b[0m\u001b[0m\n\u001b[0;32m----> 6\u001b[0;31m \u001b[0;32mimport\u001b[0m \u001b[0mtorchvision\u001b[0m\u001b[0;34m\u001b[0m\u001b[0;34m\u001b[0m\u001b[0m\n\u001b[0m\u001b[1;32m      7\u001b[0m \u001b[0;32mfrom\u001b[0m \u001b[0msquirrel\u001b[0m\u001b[0;34m.\u001b[0m\u001b[0mdriver\u001b[0m \u001b[0;32mimport\u001b[0m \u001b[0mIterDriver\u001b[0m\u001b[0;34m\u001b[0m\u001b[0;34m\u001b[0m\u001b[0m\n\u001b[1;32m      8\u001b[0m \u001b[0;32mfrom\u001b[0m \u001b[0msquirrel\u001b[0m\u001b[0;34m.\u001b[0m\u001b[0miterstream\u001b[0m \u001b[0;32mimport\u001b[0m \u001b[0mIterableSource\u001b[0m\u001b[0;34m\u001b[0m\u001b[0;34m\u001b[0m\u001b[0m\n",
      "\u001b[0;31mModuleNotFoundError\u001b[0m: No module named 'torchvision'"
     ]
    }
   ],
   "source": [
    "driver_hg = cat[\"cifar10\"][1]  # load version 1 (Huggingface)\n",
    "driver_tv = cat[\"cifar10\"][2]  # load version 2 (Torchvision)\n",
    "\n",
    "N = 3  # just for demonstration, we dont need a lot of samples\n",
    "samples_hg = driver_hg.get_driver().get_iter(split=\"train\").take(N).collect()\n",
    "samples_tv = driver_tv.get_driver().get_iter().take(N).collect()"
   ]
  },
  {
   "cell_type": "markdown",
   "id": "d07eb545",
   "metadata": {},
   "source": [
    "The format of the returned samples also depends on the driver:"
   ]
  },
  {
   "cell_type": "code",
   "execution_count": null,
   "id": "47a871f1",
   "metadata": {},
   "outputs": [],
   "source": [
    "(\n",
    "    samples_hg[0],  # a dictionary with keys \"img\" and \"label\",\n",
    "    samples_tv[0],  # a tuple of (image, label id)\n",
    ")"
   ]
  },
  {
   "cell_type": "markdown",
   "id": "da511b70",
   "metadata": {},
   "source": [
    "That's it! Here is what is returned from the drivers:"
   ]
  },
  {
   "cell_type": "code",
   "execution_count": null,
   "id": "09f42f0b",
   "metadata": {},
   "outputs": [],
   "source": [
    "import matplotlib.pyplot as plt\n",
    "\n",
    "fig = plt.figure()\n",
    "subfigs = fig.subfigures(nrows=2, ncols=1)\n",
    "subfigs[0].suptitle(\"Huggingface\")\n",
    "subfigs[1].suptitle(\"Torchvision\")\n",
    "\n",
    "# plot huggingface\n",
    "axs = subfigs[0].subplots(nrows=1, ncols=N)\n",
    "for col, ax in enumerate(axs):\n",
    "    sample = samples_hg[col]\n",
    "    ax.imshow(sample[\"img\"])\n",
    "    label = f\"Class: {sample['label']}\"\n",
    "    ax.set_title(label)\n",
    "\n",
    "# plot torchvision\n",
    "axs = subfigs[1].subplots(nrows=1, ncols=N)\n",
    "for col, ax in enumerate(axs):\n",
    "    sample = samples_tv[col]\n",
    "    ax.imshow(sample[0])\n",
    "    label = f\"Class: {sample[1]}\"\n",
    "    ax.set_title(label)"
   ]
  },
  {
   "cell_type": "markdown",
   "id": "4a1c8555",
   "metadata": {},
   "source": [
    "## End\n",
    "You are up to speed!\n",
    "\n",
    "If you are willing to learn more, check out the `Plugins Tutorial` to see how you can implement and register a new plugin, which will extend the sources provided by squirrel-datasets.\n",
    "You can also refer to the API reference to discover more information such as implementation details."
   ]
  }
 ],
 "metadata": {
  "kernelspec": {
   "display_name": "Python 3.7.13 ('py37')",
   "language": "python",
   "name": "python3"
  },
  "language_info": {
   "codemirror_mode": {
    "name": "ipython",
    "version": 3
   },
   "file_extension": ".py",
   "mimetype": "text/x-python",
   "name": "python",
   "nbconvert_exporter": "python",
   "pygments_lexer": "ipython3",
   "version": "3.7.13"
  },
  "vscode": {
   "interpreter": {
    "hash": "7ed7b7fd5b3010116e152ed4f4accab97db84b281fba8af074e2da836b86c5b1"
   }
  }
 },
 "nbformat": 4,
 "nbformat_minor": 5
}

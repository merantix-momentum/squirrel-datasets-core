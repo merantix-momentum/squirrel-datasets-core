{
 "cells": [
  {
   "cell_type": "markdown",
   "metadata": {},
   "source": [
    "This tutorial is about demonstrating the preprocessing capabilities with spark.\n",
    "To run this tutorial, please make sure that [Apache Spark](https://spark.apache.org/) along with [pyspark](https://spark.apache.org/docs/latest/api/python/getting_started/install.html) is installed.\n",
    "Installation instructions for spark can be found for example [here for Ubuntu](https://phoenixnap.com/kb/install-spark-on-ubuntu) or [here for Mac](https://medium.com/beeranddiapers/installing-apache-spark-on-mac-os-ce416007d79f)."
   ]
  },
  {
   "cell_type": "code",
   "execution_count": null,
   "metadata": {},
   "outputs": [],
   "source": [
    "try:\n",
    "    import squirrel\n",
    "    import squirrel_datasets_core\n",
    "    import numpy as np\n",
    "    import matplotlib.pyplot as plt\n",
    "except:\n",
    "    !pip install -q --ignore-requires-python --upgrade squirrel-datasets-core numpy matplotlib # noqa\n",
    "    import squirrel\n",
    "    import squirrel_datasets_core\n",
    "    import matplotlib.pyplot as plt\n",
    "\n",
    "print(squirrel.__version__)\n",
    "print(squirrel_datasets_core.__version__)"
   ]
  },
  {
   "cell_type": "markdown",
   "metadata": {},
   "source": [
    "Any squirrel `Composable` can be used as input to a preprocessing pipeline and processed. \n",
    "For this example we will use the `TorchvisionDriver` and the `CIFAR10` dataset. \n",
    "The `get_spark` method can be used to easily get access to a spark session."
   ]
  },
  {
   "cell_type": "code",
   "execution_count": null,
   "metadata": {},
   "outputs": [],
   "source": [
    "from squirrel.catalog import Catalog\n",
    "from squirrel_datasets_core.spark import get_spark\n",
    "\n",
    "it = Catalog.from_plugins()[\"cifar10\"].get_driver().get_iter()\n",
    "spark_session = get_spark(\"preprocess-cifar\")"
   ]
  },
  {
   "cell_type": "markdown",
   "metadata": {},
   "source": [
    "The method `save_composable_to_shards` is used for processing the data and saving it to the fast messagepack format. \n",
    "With the `hooks` parameter a list of functions can be specified to transform the data. Here we simply convert the PIL Image from the `TorchvisionDriver` to a numpy array as an example. \n",
    "The output can be saved to the local disk as in this case and also to a Google Cloud bucket directly. \n",
    "The number of shards for the messagepack format should be specified as well.  "
   ]
  },
  {
   "cell_type": "code",
   "execution_count": null,
   "metadata": {},
   "outputs": [],
   "source": [
    "from squirrel_datasets_core.preprocessing.save_shards import save_composable_to_shards\n",
    "\n",
    "local_store = \"cifar_local\"\n",
    "num_shards = 10\n",
    "\n",
    "\n",
    "def map_image_to_np(sample):\n",
    "    return np.array(sample[0]), sample[1]\n",
    "\n",
    "\n",
    "save_composable_to_shards(it, spark_session, local_store, num_shards, hooks=[map_image_to_np])"
   ]
  },
  {
   "cell_type": "markdown",
   "metadata": {},
   "source": [
    "As the data has been processed and saved locally, it can now be loaded using the squirrel `MessagepackDriver`:"
   ]
  },
  {
   "cell_type": "code",
   "execution_count": null,
   "metadata": {},
   "outputs": [],
   "source": [
    "from squirrel.driver.msgpack import MessagepackDriver\n",
    "\n",
    "it_msgpack = MessagepackDriver(local_store).get_iter()\n",
    "sample = it.take(1).collect()[0]\n",
    "\n",
    "plt.title(f\"Class: {sample[1]}\")\n",
    "plt.imshow(sample[0])"
   ]
  },
  {
   "cell_type": "markdown",
   "metadata": {},
   "source": [
    "In the following, we can compare the loading speed for the full dataset using the `TorchvisionDriver` to the `MessagepackDriver`."
   ]
  },
  {
   "cell_type": "code",
   "execution_count": null,
   "metadata": {},
   "outputs": [],
   "source": [
    "# measure time to load full dataset (it/s) with torchvision driver (default in squirrel catalog)\n",
    "it.tqdm().collect()"
   ]
  },
  {
   "cell_type": "code",
   "execution_count": null,
   "metadata": {},
   "outputs": [],
   "source": [
    "# measure time to load full dataset (it/s) with messagepack driver from local store\n",
    "it_msgpack.tqdm().collect()"
   ]
  }
 ],
 "metadata": {
  "language_info": {
   "codemirror_mode": {
    "name": "ipython",
    "version": 3
   },
   "file_extension": ".py",
   "mimetype": "text/x-python",
   "name": "python",
   "nbconvert_exporter": "python",
   "pygments_lexer": "ipython3"
  }
 },
 "nbformat": 4,
 "nbformat_minor": 2
}

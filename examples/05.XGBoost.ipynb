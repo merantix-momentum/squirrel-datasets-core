{
 "cells": [
  {
   "cell_type": "markdown",
   "metadata": {},
   "source": [
    "[![Open In Colab](https://colab.research.google.com/assets/colab-badge.svg)](https://colab.research.google.com/github/merantix-momentum/squirrel-datasets-core/blob/main/examples/05.XGBoost.ipynb)"
   ]
  },
  {
   "cell_type": "markdown",
   "metadata": {},
   "source": [
    "# Install Squirrel and Squirrel Datasets"
   ]
  },
  {
   "cell_type": "code",
   "execution_count": null,
   "metadata": {
    "id": "qOHKMcjcahPs",
    "outputId": "ec07008a-fd44-485c-ba33-0cfd082a3937"
   },
   "outputs": [],
   "source": [
    "try:\n",
    "    import squirrel\n",
    "    import squirrel_datasets_core\n",
    "    import numpy as np\n",
    "    import xgboost\n",
    "    import sklearn\n",
    "    import matplotlib\n",
    "except:\n",
    "    !pip install -q --ignore-requires-python --upgrade squirrel-datasets-core numpy xgboost scikit-learn matplotlib # noqa\n",
    "    import squirrel\n",
    "    import squirrel_datasets_core\n",
    "\n",
    "print(squirrel.__version__)\n",
    "print(squirrel_datasets_core.__version__)"
   ]
  },
  {
   "cell_type": "markdown",
   "metadata": {},
   "source": [
    "In this tutorial, we will fit an XGBClassifier on the MNIST dataset.\n",
    "\n",
    "First, we define how we will transform the samples and compose our batches:"
   ]
  },
  {
   "cell_type": "code",
   "execution_count": null,
   "metadata": {
    "id": "blCUEELaa8TO"
   },
   "outputs": [],
   "source": [
    "import numpy as np\n",
    "\n",
    "\n",
    "def transform(sample):\n",
    "    x, y = sample[\"image\"], sample[\"label\"]\n",
    "    x = np.array(x).reshape(1, -1)\n",
    "    y = np.array(y).reshape(-1)\n",
    "    return x, y\n",
    "\n",
    "\n",
    "def collation_fn(batch):\n",
    "    x, y = zip(*batch)\n",
    "    return (np.concatenate(x, axis=0), np.concatenate(y, axis=0))"
   ]
  },
  {
   "cell_type": "markdown",
   "metadata": {},
   "source": [
    "Then, we can construct our training set:"
   ]
  },
  {
   "cell_type": "code",
   "execution_count": null,
   "metadata": {
    "id": "csv-_I_dbVOl",
    "outputId": "4bf081e5-0448-4767-cf23-7d285cf6e441"
   },
   "outputs": [],
   "source": [
    "from squirrel.catalog import Catalog\n",
    "\n",
    "cat = Catalog.from_plugins()\n",
    "\n",
    "it = (\n",
    "    cat[\"mnist\"]\n",
    "    .get_driver()\n",
    "    .get_iter(\"train\")\n",
    "    .async_map(transform)  # uses threadpool to parallelize\n",
    "    .batched(1000, collation_fn=collation_fn)\n",
    "    .take(4)  # only 4 batches for demonstration, comment out this line to train on the whole dataset\n",
    "    .tqdm()  # so that we can monitor the progress of data loading\n",
    ")"
   ]
  },
  {
   "cell_type": "markdown",
   "metadata": {},
   "source": [
    "Ready for training!"
   ]
  },
  {
   "cell_type": "code",
   "execution_count": null,
   "metadata": {},
   "outputs": [],
   "source": [
    "import xgboost as xgb\n",
    "\n",
    "clf = xgb.XGBClassifier()\n",
    "for idx, sample in enumerate(it):\n",
    "    if idx == 0:\n",
    "        clf.fit(*sample)\n",
    "    else:\n",
    "        clf.fit(*sample, xgb_model=clf.get_booster())"
   ]
  },
  {
   "cell_type": "markdown",
   "metadata": {},
   "source": [
    "Let's visualize the predictions:"
   ]
  },
  {
   "cell_type": "code",
   "execution_count": null,
   "metadata": {},
   "outputs": [],
   "source": [
    "import matplotlib.pyplot as plt\n",
    "\n",
    "N = 10\n",
    "test_samples = cat[\"mnist\"].get_driver().get_iter(\"test\").shuffle(100).map(transform).take(N).collect()\n",
    "\n",
    "fix, axs = plt.subplots(1, N, figsize=(20, 10))\n",
    "for i, (x, y) in enumerate(test_samples):\n",
    "    y_hat = clf.predict(x)\n",
    "    axs[i].imshow(x.reshape(28, 28), cmap=plt.cm.gray)\n",
    "    axs[i].set_title(f\"GT:{y}, Pred: {y_hat}\")"
   ]
  },
  {
   "cell_type": "code",
   "execution_count": null,
   "metadata": {},
   "outputs": [],
   "source": []
  }
 ],
 "metadata": {
  "interpreter": {
   "hash": "338cfae0a1873dbc3e6a1266258c61ca663f4d905ce797b41b2835118552379a"
  },
  "kernelspec": {
   "display_name": "Python 3.8.12 ('sq-env')",
   "language": "python",
   "name": "python3"
  },
  "language_info": {
   "codemirror_mode": {
    "name": "ipython",
    "version": 3
   },
   "file_extension": ".py",
   "mimetype": "text/x-python",
   "name": "python",
   "nbconvert_exporter": "python",
   "pygments_lexer": "ipython3",
   "version": "3.8.12"
  }
 },
 "nbformat": 4,
 "nbformat_minor": 1
}

{
 "cells": [
  {
   "cell_type": "code",
   "execution_count": 4,
   "id": "36ae5df3",
   "metadata": {},
   "outputs": [
    {
     "name": "stdout",
     "output_type": "stream",
     "text": [
      "Don't say hello world\n"
     ]
    }
   ],
   "source": [
    "print(\"Don't say hello world\")"
   ]
  },
  {
   "cell_type": "code",
   "execution_count": 5,
   "id": "61d6b651",
   "metadata": {},
   "outputs": [
    {
     "name": "stdout",
     "output_type": "stream",
     "text": [
      "Dont print 0\n",
      "Dont print 1\n",
      "Dont print 2\n",
      "Dont print 3\n",
      "Dont print 4\n",
      "Dont print 5\n",
      "Dont print 6\n",
      "Dont print 7\n",
      "Dont print 8\n",
      "Dont print 9\n"
     ]
    }
   ],
   "source": [
    "for i in range(10):\n",
    "    print(f\"Dont print {i}\")"
   ]
  },
  {
   "cell_type": "code",
   "execution_count": null,
   "id": "72d3029a",
   "metadata": {},
   "outputs": [],
   "source": []
  }
 ],
 "metadata": {
  "kernelspec": {
   "display_name": "Python 3 (ipykernel)",
   "language": "python",
   "name": "python3"
  },
  "language_info": {
   "codemirror_mode": {
    "name": "ipython",
    "version": 3
   },
   "file_extension": ".py",
   "mimetype": "text/x-python",
   "name": "python",
   "nbconvert_exporter": "python",
   "pygments_lexer": "ipython3",
   "version": "3.9.12"
  }
 },
 "nbformat": 4,
 "nbformat_minor": 5
}

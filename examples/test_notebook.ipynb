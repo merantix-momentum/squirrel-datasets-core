{
 "cells": [
  {
   "cell_type": "code",
   "execution_count": null,
   "id": "36ae5df3",
   "metadata": {},
   "outputs": [],
   "source": [
    "print(\"Don't say hello world\")"
   ]
  },
  {
   "cell_type": "code",
   "execution_count": null,
   "id": "61d6b651",
   "metadata": {},
   "outputs": [],
   "source": [
    "for i in range(10):\n",
    "    print(f\"Dont print {i}\")"
   ]
  },
  {
   "cell_type": "code",
   "execution_count": null,
   "id": "72d3029a",
   "metadata": {},
   "outputs": [],
   "source": []
  }
 ],
 "metadata": {
  "kernelspec": {
   "display_name": "Python 3 (ipykernel)",
   "language": "python",
   "name": "python3"
  },
  "language_info": {
   "codemirror_mode": {
    "name": "ipython",
    "version": 3
   },
   "file_extension": ".py",
   "mimetype": "text/x-python",
   "name": "python",
   "nbconvert_exporter": "python",
   "pygments_lexer": "ipython3",
   "version": "3.9.12"
  }
 },
 "nbformat": 4,
 "nbformat_minor": 5
}

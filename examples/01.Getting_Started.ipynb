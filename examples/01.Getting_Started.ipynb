{
 "cells": [
  {
   "cell_type": "code",
   "execution_count": null,
   "metadata": {
    "id": "eN4eI8-L64v_",
    "tags": [
     "skip-execution"
    ]
   },
   "outputs": [],
   "source": [
    "try:\n",
    "    import matplotlib\n",
    "    import squirrel\n",
    "    import squirrel_datasets_core\n",
    "except:\n",
    "    !pip install -q --ignore-requires-python --upgrade squirrel-datasets-core matplotlib # noqa\n",
    "    import matplotlib\n",
    "    import squirrel\n",
    "    import squirrel_datasets_core\n",
    "\n",
    "print(squirrel.__version__)\n",
    "print(squirrel_datasets_core.__version__)"
   ]
  },
  {
   "cell_type": "markdown",
   "metadata": {},
   "source": [
    "# Introduction\n",
    "\n",
    "Squirrel enables you to efficiently load existing datasets and also share datasets using `Catalog` and `Driver`,\n",
    "apply transformations in a performant and scalable way using `Iterstream`,\n",
    "and store datasets in a way that is most convenient for deep learning applications with `SquirrelStore`.\n",
    "\n",
    "Let's see an example."
   ]
  },
  {
   "cell_type": "code",
   "execution_count": null,
   "metadata": {
    "id": "y4IIgrUe7CgJ"
   },
   "outputs": [],
   "source": [
    "from squirrel.catalog import Catalog\n",
    "\n",
    "# init catalog with in-built datasets\n",
    "cat = Catalog.from_plugins()\n",
    "\n",
    "# access training images from imagenet dataset\n",
    "driver = cat[\"cifar10\"].get_driver()\n",
    "it = driver.get_iter()\n",
    "\n",
    "# retrieve single sample from imagenet\n",
    "sample = it.take(1).collect()[0]"
   ]
  },
  {
   "cell_type": "code",
   "execution_count": null,
   "metadata": {
    "id": "YqceUBWF7gBC"
   },
   "outputs": [],
   "source": [
    "import matplotlib.pyplot as plt\n",
    "\n",
    "# plot sample and label\n",
    "plt.title(f\"Class: {sample[1]}\")\n",
    "plt.imshow(sample[0])"
   ]
  },
  {
   "cell_type": "markdown",
   "metadata": {},
   "source": [
    "In this example, we use `Catalog` to load `imagenet` dataset.\n",
    "`driver.get_iter()` gives us a `Composable` object from the package `Iterstream`, which enables us to apply transformations using convenient methods such as `map` and `filter`.\n",
    "\n",
    "Let's see an example of these transformations."
   ]
  },
  {
   "cell_type": "code",
   "execution_count": null,
   "metadata": {},
   "outputs": [],
   "source": [
    "from squirrel.iterstream import IterableSource\n",
    "\n",
    "it = IterableSource([1, 2, 3]).map(lambda x: x + 1).async_map(lambda x: x ** 2).filter(lambda x: x % 2 == 0)\n",
    "for i in it:\n",
    "    print(i)"
   ]
  },
  {
   "cell_type": "markdown",
   "metadata": {},
   "source": [
    "`Iterstream` can scale up or out your data loading using asynchronous execution using a loacal executor or a dask cluster, and just-in-time compilation using numba.\n",
    "Be sure to checkout the documentation."
   ]
  }
 ],
 "metadata": {
  "colab": {
   "collapsed_sections": [],
   "name": "Squirrel Tutorial - Getting Started.ipynb",
   "provenance": []
  },
  "kernelspec": {
   "display_name": "Python 3 (ipykernel)",
   "language": "python",
   "name": "python3"
  },
  "language_info": {
   "codemirror_mode": {
    "name": "ipython",
    "version": 3
   },
   "file_extension": ".py",
   "mimetype": "text/x-python",
   "name": "python",
   "nbconvert_exporter": "python",
   "pygments_lexer": "ipython3",
   "version": "3.8.12"
  }
 },
 "nbformat": 4,
 "nbformat_minor": 4
}
